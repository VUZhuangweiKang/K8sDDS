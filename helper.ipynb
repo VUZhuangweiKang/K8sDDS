{
 "metadata": {
  "language_info": {
   "codemirror_mode": {
    "name": "ipython",
    "version": 3
   },
   "file_extension": ".py",
   "mimetype": "text/x-python",
   "name": "python",
   "nbconvert_exporter": "python",
   "pygments_lexer": "ipython3",
   "version": "3.7.7-final"
  },
  "orig_nbformat": 2,
  "kernelspec": {
   "name": "python37764bit7b1f69f4b8694c11a491566f0cc14780",
   "display_name": "Python 3.7.7 64-bit"
  }
 },
 "nbformat": 4,
 "nbformat_minor": 2,
 "cells": [
  {
   "cell_type": "code",
   "execution_count": 2,
   "metadata": {},
   "outputs": [],
   "source": [
    "import pandas as pd"
   ]
  },
  {
   "cell_type": "code",
   "execution_count": 10,
   "metadata": {},
   "outputs": [],
   "source": [
    "# generate perftest schedule\n",
    "df = pd.read_csv('perftest_args.csv')\n",
    "schedule = []\n",
    "args = df['arg']\n",
    "default = df['default'].to_list()\n",
    "baseline = {}\n",
    "for i in range(len(args)):\n",
    "    baseline.update({args[i]: default[i]})\n",
    "for index, row in df.iterrows():\n",
    "    for opt in row['options'].split(','):\n",
    "        bcpy = baseline.copy()\n",
    "        bcpy[row['arg']] = opt\n",
    "        schedule.append(bcpy)\n",
    "schedule = pd.DataFrame(schedule)\n",
    "schedule.to_csv('exp.csv')"
   ]
  },
  {
   "cell_type": "code",
   "execution_count": 3,
   "metadata": {},
   "outputs": [
    {
     "output_type": "stream",
     "name": "stdout",
     "text": [
      "{'arg': 'dataLen', 'default': '256', 'options': '64,256,1024,4096,16384,63000', 'entity': 'both'}\n{'arg': 'multicast', 'default': 'false', 'options': 'false,true', 'entity': 'both'}\n{'arg': 'numSubscribers', 'default': '1', 'options': '1,2,4,8', 'entity': 'pub'}\n{'arg': 'bestEffort', 'default': 'false', 'options': 'false,true', 'entity': 'both'}\n{'arg': 'batchSize', 'default': '0', 'options': '0,8192', 'entity': 'pub'}\n"
     ]
    }
   ],
   "source": [
    "df = pd.read_csv('perftest_args.csv')\n",
    "for index, row in df.iterrows():\n",
    "    print(row.to_dict())"
   ]
  }
 ]
}