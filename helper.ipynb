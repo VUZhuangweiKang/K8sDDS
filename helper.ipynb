{
 "metadata": {
  "language_info": {
   "codemirror_mode": {
    "name": "ipython",
    "version": 3
   },
   "file_extension": ".py",
   "mimetype": "text/x-python",
   "name": "python",
   "nbconvert_exporter": "python",
   "pygments_lexer": "ipython3",
   "version": "3.7.7-final"
  },
  "orig_nbformat": 2,
  "kernelspec": {
   "name": "python37764bit7b1f69f4b8694c11a491566f0cc14780",
   "display_name": "Python 3.7.7 64-bit"
  }
 },
 "nbformat": 4,
 "nbformat_minor": 2,
 "cells": [
  {
   "cell_type": "code",
   "execution_count": 1,
   "metadata": {},
   "outputs": [],
   "source": [
    "import pandas as pd"
   ]
  },
  {
   "cell_type": "code",
   "execution_count": 10,
   "metadata": {},
   "outputs": [],
   "source": [
    "# generate perftest schedule\n",
    "df = pd.read_csv('perftest_args.csv')\n",
    "schedule = []\n",
    "args = df['arg']\n",
    "default = df['default'].to_list()\n",
    "baseline = {}\n",
    "for i in range(len(args)):\n",
    "    baseline.update({args[i]: default[i]})\n",
    "for index, row in df.iterrows():\n",
    "    for opt in row['options'].split(','):\n",
    "        bcpy = baseline.copy()\n",
    "        bcpy[row['arg']] = opt\n",
    "        schedule.append(bcpy)\n",
    "schedule = pd.DataFrame(schedule)\n",
    "schedule.to_csv('exp.csv')"
   ]
  },
  {
   "cell_type": "code",
   "execution_count": 12,
   "metadata": {},
   "outputs": [
    {
     "output_type": "stream",
     "name": "stdout",
     "text": [
      "dataLen\n256\n64,256,1024,4096,16384,63000\nboth\nmulticast\nfalse\nfalse,true\nboth\nnumSubscribers\n1\n1,2,4,8\npub\nbestEffort\nfalse\nfalse,true\nboth\nbatchSize\n0\n0,8192\npub\n"
     ]
    }
   ],
   "source": [
    "df = pd.read_csv('perftest_args.csv')\n",
    "for index, row in df.iterrows():\n",
    "    for x in row:\n",
    "        print(x)"
   ]
  }
 ]
}